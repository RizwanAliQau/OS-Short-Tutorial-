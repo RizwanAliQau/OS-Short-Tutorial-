{
 "cells": [
  {
   "cell_type": "markdown",
   "metadata": {},
   "source": [
    "## There are a lot of operations you can perform using \"os\" one of the most commonly used is for directory operation:\n",
    "    * changing of path\n",
    "    * making directory and folders\n",
    "    * deleting them and moving them around \n",
    "  "
   ]
  },
  {
   "cell_type": "code",
   "execution_count": 16,
   "metadata": {},
   "outputs": [],
   "source": [
    "import os # imoorting module to use its operation "
   ]
  },
  {
   "cell_type": "code",
   "execution_count": 17,
   "metadata": {},
   "outputs": [],
   "source": [
    "CurDir = os.getcwd() # get (get) the path of current working dorectory (cwd) "
   ]
  },
  {
   "cell_type": "code",
   "execution_count": 18,
   "metadata": {},
   "outputs": [
    {
     "name": "stdout",
     "output_type": "stream",
     "text": [
      "C:\\Users\\Haier\n"
     ]
    }
   ],
   "source": [
    "print(CurDir)"
   ]
  },
  {
   "cell_type": "code",
   "execution_count": 19,
   "metadata": {},
   "outputs": [],
   "source": [
    "os.mkdir('newDir') # to create a new directory "
   ]
  },
  {
   "cell_type": "code",
   "execution_count": 20,
   "metadata": {},
   "outputs": [],
   "source": [
    "# to change the directory and see the file changing in your folder use the time module and in that \n",
    "# module use the sleep function \n",
    "\n",
    "import time \n",
    "time.sleep(2)   # take two second to excute the command below \n",
    "os.rename('newDir','newDir1') # to make new directory "
   ]
  },
  {
   "cell_type": "code",
   "execution_count": 21,
   "metadata": {},
   "outputs": [],
   "source": [
    "time.sleep(2)\n",
    "os.rmdir('newDir1') # remove the directory "
   ]
  },
  {
   "cell_type": "markdown",
   "metadata": {},
   "source": [
    "* thanks \"sentdex\" for the video *\n",
    "**** you can see the video on above short tutorial at https://www.youtube.com/watch?v=wgHeTJtth0w *****"
   ]
  },
  {
   "cell_type": "code",
   "execution_count": null,
   "metadata": {},
   "outputs": [],
   "source": []
  }
 ],
 "metadata": {
  "kernelspec": {
   "display_name": "Python 3",
   "language": "python",
   "name": "python3"
  },
  "language_info": {
   "codemirror_mode": {
    "name": "ipython",
    "version": 3
   },
   "file_extension": ".py",
   "mimetype": "text/x-python",
   "name": "python",
   "nbconvert_exporter": "python",
   "pygments_lexer": "ipython3",
   "version": "3.6.9"
  }
 },
 "nbformat": 4,
 "nbformat_minor": 2
}
